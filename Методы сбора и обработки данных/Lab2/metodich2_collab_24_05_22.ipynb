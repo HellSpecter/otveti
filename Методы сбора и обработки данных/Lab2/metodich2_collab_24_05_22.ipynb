{
  "nbformat": 4,
  "nbformat_minor": 0,
  "metadata": {
    "kernelspec": {
      "display_name": "Python 3",
      "language": "python",
      "name": "python3"
    },
    "language_info": {
      "codemirror_mode": {
        "name": "ipython",
        "version": 3
      },
      "file_extension": ".py",
      "mimetype": "text/x-python",
      "name": "python",
      "nbconvert_exporter": "python",
      "pygments_lexer": "ipython3",
      "version": "3.7.1"
    },
    "colab": {
      "name": "metodich2_collab.ipynb",
      "provenance": [],
      "collapsed_sections": [
        "NRSQbmXD9U98",
        "m2wW13WB9U99",
        "v6h1K5ET9U9_"
      ]
    },
    "accelerator": "GPU"
  },
  "cells": [
    {
      "cell_type": "markdown",
      "metadata": {
        "id": "XvhEhpGm9U8z"
      },
      "source": [
        "# Введение в искусственные нейронные сети\n",
        "# Урок 2. Keras"
      ]
    },
    {
      "cell_type": "markdown",
      "metadata": {
        "id": "LmKjkEH-9U84"
      },
      "source": [
        "## Содержание методического пособия:\n",
        "\n",
        "\n",
        "<ol>\n",
        "<li>Способы создания нейросетей</li>\n",
        "<li>Что такое Keras</li>\n",
        "<li>Основы синтаксиса</li>\n",
        "<li>Простая нейросеть на Keras</li>\n",
        "</ol>"
      ]
    },
    {
      "cell_type": "markdown",
      "metadata": {
        "id": "9gV6aaON9U86"
      },
      "source": [
        "## Способы создания нейросетей\n",
        "\n",
        "Нейросети это математические модели. Программирую на любом языке можно решать задачи связанные с математикой. Однако встает вопрос какой язык подойдет для этого больше? Не считая учебных нейросетей, нейросети как правило работают с большим количеством данных. Поэтому, чтобы обучение нейросетей происходило с приемлимой скоростью нужно использовать быстрый язык. Например Си. Но так как язык Си это язык с низким уровнем абстракции то программировать и модифицировать на нем нейросети было бы крайне затруднительно. \n",
        "\n",
        "Хорошо может подойти для этих целей язык Python. Так как он с одной стороны имеет высокий уровень абстракции с другой стороны операции с массивами данных могут сделать его библиотеки написанные на Си. Таким способом мы пользовались на первых 2 уроках. Однако если писать нейросети таким образом то будет много повторяющегося кода поскольку архитектуры нейросетей остаются одинаковыми и зачастую у них только меняются параметры. Кроме этого нам может понадобиться хорошо знать архитектуры самых разных нейронных сетей чтобы реализовать их вручную. Работа таким образом затруднительна для людей не имеющих достаточной подготовки, а для имеющих может быть нааборот рутиной.\n",
        "\n",
        "Существуют фреймворки для созданий нейронных сетей. Они являются, пожалуй основным рабочим способом создания нейронных сетей. Вот их неполный перечень:\n",
        "\n",
        "1. TensorFlow\n",
        "2. PyTorch\n",
        "3. Keras\n",
        "4. Microsoft Cognitive Toolkit (CNTK)\n",
        "5. Caffe\n",
        "6. Apache MXNet\n",
        "\n",
        "Упрощение создания нейронных сетей не заканчивается на этих фрейворках. Существуют инструменты которые позволяют создавать нейронные сети без навыков программирования, строя нейросети графически. Примеры: Neural Designer, Deep Learning Studio.\n",
        "\n",
        "Но и на этом не заканчиваются способы создания нейросетей. Существуют инструменты самостоятельно создающие нейронные сети. Это так называемые AutoML инструменты. Вот примеры популярных из них:\n",
        "1. MLBox\n",
        "2. TPOT\n",
        "3. Autokeras\n",
        "\n",
        "Как вы возможно заметили что все эти инструменты отранжированы походы изложения в порядке возрастания уровня абстракции. Соответсвенно говоря о плюсах минусах того или иного инструмента мы должны понимать в принципе плюсы минусы повышения уровня абстракции. Чем он выше тем меньше производительность и тем меньше его гибкость и набоорот.\n",
        "\n",
        "Как уже было сказано наиболее востребованных в рабочих целях является тот уровень абстракции, который дают фреймворки. Будем изучать дальше и пользовать ими. Остается сделать выбор среди них. Самый популярный фреймворк для создания нейросетей TensorFlow. Самый популярный для обучения - Keras. На этом уроке мы изучим с вами Keras, а на следующим TensorFlow. Также стоит отметить, что эти фреймворки взаимосвязаны - Keras как правило работает поверх TensorFlow, а сам TensorFlow позволяет пользовать средствами Keras при необходимости.\n"
      ]
    },
    {
      "cell_type": "markdown",
      "metadata": {
        "id": "b1uUklH29U88"
      },
      "source": [
        "## Что такое Keras\n",
        "\n",
        "Keras появился относительно недавно - в 2015 г. Но за это время стал одним из самых популярных фреймоворков для создания нейросетей и фактически стандартом для использования его начинающими.\n",
        "\n",
        "В чем причина его популярности? Keras позволяет создовать на высоком уровне абстракции. Т.е. на не нужно вручную реализовать с помощью математикаподобного кода те или иные элементы нейронной сети. Мы можем оперировать слоями, количеством нейронов в них, выбором функции активации и т.д. В тоже время keras содержит инструментарий для всего того, что может понадобиться для работы - например ряд встроенных датасетов, возможность обрабатывать изображения.\n",
        "\n",
        "В техническом плане Keras это оболочка над инструментами меньшей степени абстракции. На выбор он может работать поверх TensorFlow, Microsoft Cognitive Toolkit, R, Theano, PlaidML.\n",
        "\n",
        "Keras пользуется также на соревнованиях Kaggle.\n",
        "\n",
        "Однако стоит отметить, что в реальных проектах чаще используется TensorFlow, который мы будем изучать в след. уроках.\n",
        "\n",
        "Keras как и любой высокобастрактный инструмент имеет изъяны в качестве меньшей гибкостью и производительснотью чем тот же tensorflow.\n",
        "\n",
        "Стоит также отметить, что Google официально поддерживает Keras, его автор François Chollet, является сотрудником Google. TensorFlow сам в свою очередь позволяет использовать возможности Keras, т.е. в нем заложена возможность переходить на более высокой уровень абстракции.\n",
        "\n",
        "В данном уроке мы с вами рассмотрим пример обучения нейронной сети с помощью Keras. Но прежде давайте посмотрим на основы синтаксиса Keras и стандартные задачи, которые нужно выполнить при обучении нейронной сети."
      ]
    },
    {
      "cell_type": "markdown",
      "metadata": {
        "id": "iRJ_I6hu9U8-"
      },
      "source": [
        "## Основы синтаксиса"
      ]
    },
    {
      "cell_type": "markdown",
      "metadata": {
        "id": "Sars-tTz9U9A"
      },
      "source": [
        "**Установка и работа с данными**"
      ]
    },
    {
      "cell_type": "markdown",
      "metadata": {
        "id": "8w3sHXOV9U9B"
      },
      "source": [
        "Для начала необходимо установить keras. Надо полагать вы хорошо знакомы с командой pip."
      ]
    },
    {
      "cell_type": "markdown",
      "metadata": {
        "id": "05hfRCv09U9D"
      },
      "source": [
        "sudo python3 pip install keras"
      ]
    },
    {
      "cell_type": "markdown",
      "metadata": {
        "id": "EAwWzAS29U9F"
      },
      "source": [
        "Давайте попробуем получить датасет mnist и проанализировать его содержимое.\n",
        "Это еще не будет синтаксис Keras, но это часто встречающаяся задача. Не обращайте внимание на предупреждения от TensorFlow. Их часто бывает много и их можно подавить при необходимости."
      ]
    },
    {
      "cell_type": "markdown",
      "metadata": {
        "id": "iKgNxL4G9U9H"
      },
      "source": [
        "    import numpy as np\n",
        "    import mnist\n",
        "    import keras\n",
        "\n",
        "    # The first time you run this might be a bit slow, since the\n",
        "    # mnist package has to download and cache the data.\n",
        "    train_images = mnist.train_images()\n",
        "    train_labels = mnist.train_labels()\n",
        "\n",
        "    print(train_images.shape) # (60000, 28, 28)\n",
        "    print(train_labels.shape) # (60000,)"
      ]
    },
    {
      "cell_type": "markdown",
      "metadata": {
        "id": "F_3tRtvg9U9J"
      },
      "source": [
        "Что в данном случае мы смогли с вами узнать? Что тренировочный датасет mnist состоит из 60000 изображений 28 на 28 пикселей. Такие небольшие датасеты с маленькими изображениями встретятся вам и в других учебных датасетах."
      ]
    },
    {
      "cell_type": "markdown",
      "metadata": {
        "id": "DZiKILQd9U9L"
      },
      "source": [
        "Что нам нужно делать теперь? Если датасет не имеет разделения на тренировочный и тестовый то поделить их. В нашем случае наш тренировочный датасет состоит из 60 000 изображений и тестовый из 10 000 и они поделены по умолчанию.\n",
        "\n",
        "Нам теперь нужно конверитировать значения пикселей из вида от 1 до 255 в набор значений от -0.5 до 0.5.\n",
        "\n"
      ]
    },
    {
      "cell_type": "code",
      "metadata": {
        "id": "TQMMZ_jw9U9N",
        "colab": {
          "base_uri": "https://localhost:8080/"
        },
        "outputId": "e47aa6eb-72ab-4cd9-cf89-8645231c4bb5"
      },
      "source": [
        "import numpy as np\n",
        "#import mnist\n",
        "#import tensorflow as tf\n",
        "#import tf.kears as keras\n",
        "import keras\n",
        "from keras.datasets import mnist, boston_housing, fashion_mnist  # наборы для работы\n",
        "\n",
        "#train_images = mnist.train_images()\n",
        "#train_labels = mnist.train_labels()\n",
        "#test_images = mnist.test_images()\n",
        "#test_labels = mnist.test_labels()\n",
        "\n",
        "(train_imagesi,train_labels),(test_imagesi,testn_labels)=mnist.load_data()\n",
        "\n",
        "# Normalize the images.\n",
        "train_imagesi = (train_imagesi / 127) - 1\n",
        "test_imagesi = (test_imagesi / 127) - 1\n",
        "\n",
        "# Flatten the images.\n",
        "train_images = train_imagesi.reshape((-1, 784))\n",
        "test_images = test_imagesi.reshape((-1, 784))\n",
        "\n",
        "print(train_images.shape) # (60000, 784)\n",
        "print(test_images.shape)  # (10000, 784)"
      ],
      "execution_count": null,
      "outputs": [
        {
          "output_type": "stream",
          "name": "stdout",
          "text": [
            "Downloading data from https://storage.googleapis.com/tensorflow/tf-keras-datasets/mnist.npz\n",
            "11493376/11490434 [==============================] - 0s 0us/step\n",
            "11501568/11490434 [==============================] - 0s 0us/step\n",
            "(60000, 784)\n",
            "(10000, 784)\n"
          ]
        }
      ]
    },
    {
      "cell_type": "code",
      "source": [
        "n=1\n",
        "train_imagesi[n,:,:].shape"
      ],
      "metadata": {
        "colab": {
          "base_uri": "https://localhost:8080/"
        },
        "id": "haGKRAidX8XT",
        "outputId": "fedbc4c2-0678-4dfe-e641-35bc32598c00"
      },
      "execution_count": null,
      "outputs": [
        {
          "output_type": "execute_result",
          "data": {
            "text/plain": [
              "(28, 28)"
            ]
          },
          "metadata": {},
          "execution_count": 2
        }
      ]
    },
    {
      "cell_type": "code",
      "metadata": {
        "id": "3fwDFMMPJDFE",
        "colab": {
          "base_uri": "https://localhost:8080/",
          "height": 36
        },
        "outputId": "6a61ce9e-c999-43cd-e1eb-9b2e117dad05"
      },
      "source": [
        "keras.backend.backend()"
      ],
      "execution_count": null,
      "outputs": [
        {
          "output_type": "execute_result",
          "data": {
            "text/plain": [
              "'tensorflow'"
            ],
            "application/vnd.google.colaboratory.intrinsic+json": {
              "type": "string"
            }
          },
          "metadata": {},
          "execution_count": 7
        }
      ]
    },
    {
      "cell_type": "code",
      "metadata": {
        "id": "Jp0WM1sS1DFX"
      },
      "source": [
        "import matplotlib.pyplot as plt"
      ],
      "execution_count": null,
      "outputs": []
    },
    {
      "cell_type": "code",
      "metadata": {
        "colab": {
          "base_uri": "https://localhost:8080/",
          "height": 282
        },
        "id": "1GG9Z5HDEEWW",
        "outputId": "d6c78a43-9396-47c9-f57b-09a6b0aefb37"
      },
      "source": [
        "n = 25012\n",
        "plt.imshow(train_imagesi[n,:,:])\n",
        "plt.show()\n",
        "print(train_labels[n])"
      ],
      "execution_count": null,
      "outputs": [
        {
          "output_type": "display_data",
          "data": {
            "text/plain": [
              "<Figure size 432x288 with 1 Axes>"
            ],
            "image/png": "[encoded data removed]"
          },
          "metadata": {
            "needs_background": "light"
          }
        },
        {
          "output_type": "stream",
          "name": "stdout",
          "text": [
            "8\n"
          ]
        }
      ]
    },
    {
      "cell_type": "code",
      "metadata": {
        "colab": {
          "base_uri": "https://localhost:8080/"
        },
        "id": "t58_YKCl38rz",
        "outputId": "a6f1aeb7-e7b4-496b-91f4-c581b5d00a8d"
      },
      "source": [
        "train_labels[:12]"
      ],
      "execution_count": null,
      "outputs": [
        {
          "output_type": "execute_result",
          "data": {
            "text/plain": [
              "array([5, 0, 4, 1, 9, 2, 1, 3, 1, 4, 3, 5], dtype=uint8)"
            ]
          },
          "metadata": {},
          "execution_count": 8
        }
      ]
    },
    {
      "cell_type": "code",
      "metadata": {
        "colab": {
          "base_uri": "https://localhost:8080/"
        },
        "id": "1_Ae7niGnjb6",
        "outputId": "9171d59f-2979-4c03-cd22-3f64a8ba55fd"
      },
      "source": [
        "train_images[202,150:160]"
      ],
      "execution_count": null,
      "outputs": [
        {
          "output_type": "execute_result",
          "data": {
            "text/plain": [
              "array([-1.        , -1.        , -1.        , -1.        , -1.        ,\n",
              "       -0.90551181, -0.80314961, -0.80314961, -0.80314961, -0.80314961])"
            ]
          },
          "metadata": {},
          "execution_count": 9
        }
      ]
    },
    {
      "cell_type": "markdown",
      "metadata": {
        "id": "Y6btW5Oz9U9W"
      },
      "source": [
        "**Создание модели**"
      ]
    },
    {
      "cell_type": "markdown",
      "metadata": {
        "id": "jgVdsO619U9Y"
      },
      "source": [
        "После первичной подготовки данных дальше как правило следует создание модели нейронной сети, которая будет учиться на этих данных.\n",
        "\n",
        "Ниже типичный код учебной нейросети - "
      ]
    },
    {
      "cell_type": "markdown",
      "metadata": {
        "id": "rfu5k2FX9U9a"
      },
      "source": [
        "    # define the keras model\n",
        "    model = Sequential()\n",
        "    model.add(Dense(12, input_dim=8, activation='relu'))\n",
        "    model.add(Dense(8, activation='relu'))\n",
        "    model.add(Dense(1, activation='sigmoid'))"
      ]
    },
    {
      "cell_type": "markdown",
      "metadata": {
        "id": "lb6IkKpN9U9c"
      },
      "source": [
        "Давайте разберемся с теми командами, которые нам встетились в этом коде.\n",
        "\n",
        "Sequential - позволяет создать нейросети где слои имеют форму стека. Сигнал в них передается от одного слоя к другому. В противовес этой разновидности есть нейросети где сигнал может не сразу передаваться в следующий слой а попадать в цикл. Такие нейросети мы разберем в следующих уроках.\n",
        "\n",
        "Dense - позволяет каждому нейронну быть связанному с другим нейронном. В противовес этом может быть необходимость не делать так много связей. Неполносвязнные архитектуры мы также разберем на этом курсе, они основа компьютерного зрения.\n",
        "\n",
        "Цифры 12, 8, 1 обозначают количество нейронов в каждом конкретном слое\n",
        "\n",
        "Activation - позволяет определить формулу по которой будет активироваться нейрон."
      ]
    },
    {
      "cell_type": "markdown",
      "metadata": {
        "id": "iVWaIK2l9U9e"
      },
      "source": [
        "**Компиляция модели**\n",
        "\n",
        "На этапе компиляции модель с заданными параметрами ранее создается. Вот типичный учебный пример:"
      ]
    },
    {
      "cell_type": "markdown",
      "metadata": {
        "id": "B6m5CF1l9U9g"
      },
      "source": [
        "    \n",
        "    # создание keras модели\n",
        "    model.compile(loss='binary_crossentropy', optimizer='adam', metrics=['accuracy'])"
      ]
    },
    {
      "cell_type": "markdown",
      "metadata": {
        "id": "IDbetrHA9U9i"
      },
      "source": [
        "Однако на этой стадии мы должны сделать еще некоторые настройки нейронной сети. Разберем команды из кода выше.\n",
        "\n",
        "loss - позволяет задать формулы по которой будет определяться степень ошибки нейронной сети.\n",
        "\n",
        "optimizer - позволяет задать алгоритм, который будет осуществлять изменения весов по всей нейронной сети (backpropagation)\n",
        "\n",
        "metrics - позволяет опредилить кретирии по которым будет оцениваться степень обученности нейросети.\n",
        "    \n",
        "    "
      ]
    },
    {
      "cell_type": "markdown",
      "metadata": {
        "id": "KH-Cy6Iy9U9l"
      },
      "source": [
        "**Передача данных для обучения нейросети**\n",
        "\n",
        "После того как нейросеть создана можно передавать ей данные для обучения. Ниже типичный пример кода для этого.\n"
      ]
    },
    {
      "cell_type": "markdown",
      "metadata": {
        "id": "TweWbzvu9U9o"
      },
      "source": [
        "    # передача обучающего датасета keras модели\n",
        "    model.fit(X, y, epochs=150, batch_size=10, verbose=0)"
      ]
    },
    {
      "cell_type": "markdown",
      "metadata": {
        "id": "tFt0A6m59U9q"
      },
      "source": [
        "Разберем команды из этого примера.\n",
        "X, y - содержат все обучающие данные\n",
        "epochs - определяет сколько раз через нейросеть должен пройти весь набор данных\n",
        "bath_size - определяет количество обучающих примеров передающихся нейросети на каждой итерации обучения.\n",
        "verbose - позволяет определять информацию, котору вы видете во время обучения нейронной сети."
      ]
    },
    {
      "cell_type": "markdown",
      "metadata": {
        "id": "P7ERG-o79U9s"
      },
      "source": [
        "**Оценка обученности нейронной сети**\n",
        "\n",
        "Следующей стадией может быть проверка обученности нейронной сети. Команда Keras для этих целей - \n",
        "\n",
        "    results = model.evaluate(x_test, y_test, batch_size=128)\n",
        "    \n",
        "В данном случае мы просто указываем какую модель на каких данных мы хотим проверить"
      ]
    },
    {
      "cell_type": "markdown",
      "metadata": {
        "id": "UHT1j0AX9U9t"
      },
      "source": [
        "**Запуск нейронной сети для выполнения работы**\n",
        "\n",
        "На этой стадии мы можем попробовать запустить нейронную сеть на данных которые мы хотели бы чтобы она оценила. Осуществить распознования объекта на фотографии например.\n",
        "Вот код для этих целей - \n",
        "\n",
        "    predictions = model.predict(x_test[:3])\n",
        "    \n",
        "В качестве аргумента здесь указывается массив даныхх содержащих, например фотографию в виде массива чисел.    \n",
        "    "
      ]
    },
    {
      "cell_type": "markdown",
      "metadata": {
        "id": "LoL6FC9I9U9v"
      },
      "source": [
        "Мы с вами рассмотрели основные стадии процесса обучения нейросети и команды Keras, для этого. Безусловно здесь приведен далеко неполный перечень возможностей Keras. У Keras есть также возможность сохранять созданную нейросеть, запускать уже имеющиюся, различные средства для создания нейросетей разных архитектур и другое. С чем то из арсенала Keras мы с вами познакомимся по ходу курса, а с остальным вы можете познакомиться на сайте Keras в разделе документация."
      ]
    },
    {
      "cell_type": "markdown",
      "metadata": {
        "id": "jnUt9U3_9U9x"
      },
      "source": [
        "## Простая нейросеть на Keras"
      ]
    },
    {
      "cell_type": "markdown",
      "metadata": {
        "id": "SAa_Lfn89U9y"
      },
      "source": [
        "Давайте попрубуем сделать нейросеть на Keras использую полученные выше знания. Попробуем обучить нейросеть различать рукописные цифры."
      ]
    },
    {
      "cell_type": "code",
      "metadata": {
        "id": "hf6f_oe7EH7A"
      },
      "source": [
        "# Код нейронной сети в Keras!\n",
        "###############################\n",
        "import numpy as np\n",
        "#import mnist\n",
        "from keras.models import Sequential\n",
        "from keras.layers import Dense\n",
        "from keras.datasets import mnist\n",
        "from tensorflow.keras.utils import to_categorical\n",
        "\n"
      ],
      "execution_count": null,
      "outputs": []
    },
    {
      "cell_type": "markdown",
      "metadata": {
        "id": "rlO6abtO0oFX"
      },
      "source": [
        "Размер набора входных данных для обучения "
      ]
    },
    {
      "cell_type": "code",
      "metadata": {
        "id": "XLsN2KNiNHEf",
        "colab": {
          "base_uri": "https://localhost:8080/"
        },
        "outputId": "fc2787dc-7417-4b2d-df1a-5b950d6df63d"
      },
      "source": [
        "train_images.shape,test_images.shape"
      ],
      "execution_count": null,
      "outputs": [
        {
          "output_type": "execute_result",
          "data": {
            "text/plain": [
              "((60000, 784), (10000, 784))"
            ]
          },
          "metadata": {},
          "execution_count": 12
        }
      ]
    },
    {
      "cell_type": "markdown",
      "metadata": {
        "id": "eHplAiIbpDLE"
      },
      "source": [
        "Собираем сеть по слоям через .add()"
      ]
    },
    {
      "cell_type": "code",
      "metadata": {
        "id": "b0-xDKrNHNrv"
      },
      "source": [
        "model1 = Sequential(name='my_model')\n",
        "model1.add( Dense( 128, activation='relu', input_shape=(784,)))  \n",
        "# входной слой + поносвязный слой из 128 нейронов с активацией ReLU\n",
        "for k in range(2):\n",
        "  model1.add(Dense(  10+(10-k)*10, activation='tanh')) \n",
        "  # Скрытый слой k из 10+(10-k)*10 нейронов с активацией tanh\n",
        "\n",
        "model1.add(Dense(10, activation='softmax')) \n",
        "# выходной слой из 10 нейронов (сколько классов, столько нейронов) + активация softmax"
      ],
      "execution_count": null,
      "outputs": []
    },
    {
      "cell_type": "code",
      "metadata": {
        "id": "WjoJONokxO70"
      },
      "source": [
        "#keras.losses.SparseCategoricalCrossentropy().\n",
        "#keras.losses.categorical_crossentropy()\n",
        "# keras.metrics.accuracy"
      ],
      "execution_count": null,
      "outputs": []
    },
    {
      "cell_type": "markdown",
      "metadata": {
        "id": "oZG48jgOpNmT"
      },
      "source": [
        "Компилируем сеть с оптимизатором , функцией потерь и метрикой:"
      ]
    },
    {
      "cell_type": "code",
      "metadata": {
        "id": "6pZ5taUWHke6"
      },
      "source": [
        "model1.compile(\n",
        "  optimizer='adam', # оптимизатор\n",
        "  loss=keras.losses.CategoricalCrossentropy(), # функция потерь\n",
        "  metrics=['accuracy'], # метрика\n",
        ") "
      ],
      "execution_count": null,
      "outputs": []
    },
    {
      "cell_type": "markdown",
      "metadata": {
        "id": "d9Gi-C5ddKKL"
      },
      "source": [
        "Оптимизаторы:\n",
        "* SGD() (с или без моментум)\n",
        "* RMSprop()\n",
        "* Adam()\n",
        "* Adagrad()\n",
        "…\n",
        "\n",
        "Функции потерь:\n",
        "* CategoricalCrossentropy()\n",
        "* SparseCategoricalCrossentropy()\n",
        "* BinaryCrossentropy()\n",
        "* MeanSquaredError()\n",
        "* KLDivergence()\n",
        "* CosineSimilarity()\n",
        "…\n",
        "\n",
        "Метрики:\n",
        "* CategoricalAccuracy()\n",
        "* SparseCategoricalAccuracy()\n",
        "* BinaryAccuracy()\n",
        "* AUC()\n",
        "* Precision()\n",
        "* Recall()\n",
        "…"
      ]
    },
    {
      "cell_type": "markdown",
      "metadata": {
        "id": "kaOhpafIpZ5l"
      },
      "source": [
        "ПОсмотрим из чего она состоит:"
      ]
    },
    {
      "cell_type": "code",
      "metadata": {
        "colab": {
          "base_uri": "https://localhost:8080/"
        },
        "id": "MdAHcWIoE8rf",
        "outputId": "029591c1-3139-4219-d0f5-558e3819a2a0"
      },
      "source": [
        "model1.summary( )"
      ],
      "execution_count": null,
      "outputs": [
        {
          "output_type": "stream",
          "name": "stdout",
          "text": [
            "Model: \"my_model\"\n",
            "_________________________________________________________________\n",
            " Layer (type)                Output Shape              Param #   \n",
            "=================================================================\n",
            " dense (Dense)               (None, 128)               100480    \n",
            "                                                                 \n",
            " dense_1 (Dense)             (None, 110)               14190     \n",
            "                                                                 \n",
            " dense_2 (Dense)             (None, 100)               11100     \n",
            "                                                                 \n",
            " dense_3 (Dense)             (None, 10)                1010      \n",
            "                                                                 \n",
            "=================================================================\n",
            "Total params: 126,780\n",
            "Trainable params: 126,780\n",
            "Non-trainable params: 0\n",
            "_________________________________________________________________\n"
          ]
        }
      ]
    },
    {
      "cell_type": "markdown",
      "metadata": {
        "id": "i2YcWu0upeWi"
      },
      "source": [
        "126 780 параметров в сети. Все будем обучать.\n",
        "\n",
        "Как считать параметры слоя: (число входов нейрона +1)*число нейронов\n",
        "\n",
        "\n",
        "Например, для 5 входов и 10 нейронов в слое - число настраиваемых параметров = (5+1)*10 = 60"
      ]
    },
    {
      "cell_type": "markdown",
      "metadata": {
        "id": "f-drP8y5USej"
      },
      "source": [
        "Еще один способ создать линейную модель"
      ]
    },
    {
      "cell_type": "code",
      "metadata": {
        "id": "vT7VLh_SEcZS"
      },
      "source": [
        "\n",
        "# Build the model.\n",
        "model = Sequential([\n",
        "  Dense(128, activation='tanh', input_shape=(784,)),\n",
        "  Dense(110, activation='tanh'), # Скрытый слой из 110 нейронов с активацией tanh\n",
        "  Dense(100, activation='tanh'), # Скрытый слой k из 100 нейронов с активацией tanh\n",
        "  Dense(10, activation='softmax'),# выходной слой из 10 нейронов (сколько классов, столько нейронов) + активация softmax\n",
        "])\n",
        "\n",
        "# Compile the model.\n",
        "model.compile(\n",
        "  optimizer='adam',\n",
        "  loss='categorical_crossentropy',\n",
        "  metrics=['accuracy'],\n",
        ")"
      ],
      "execution_count": null,
      "outputs": []
    },
    {
      "cell_type": "code",
      "metadata": {
        "id": "O5DOd_RAGZHQ",
        "colab": {
          "base_uri": "https://localhost:8080/"
        },
        "outputId": "b1c82db5-6e04-44ee-d914-88e0ff05d42c"
      },
      "source": [
        "model.summary()"
      ],
      "execution_count": null,
      "outputs": [
        {
          "output_type": "stream",
          "name": "stdout",
          "text": [
            "Model: \"sequential\"\n",
            "_________________________________________________________________\n",
            " Layer (type)                Output Shape              Param #   \n",
            "=================================================================\n",
            " dense_4 (Dense)             (None, 128)               100480    \n",
            "                                                                 \n",
            " dense_5 (Dense)             (None, 110)               14190     \n",
            "                                                                 \n",
            " dense_6 (Dense)             (None, 100)               11100     \n",
            "                                                                 \n",
            " dense_7 (Dense)             (None, 10)                1010      \n",
            "                                                                 \n",
            "=================================================================\n",
            "Total params: 126,780\n",
            "Trainable params: 126,780\n",
            "Non-trainable params: 0\n",
            "_________________________________________________________________\n"
          ]
        }
      ]
    },
    {
      "cell_type": "markdown",
      "metadata": {
        "id": "D-ZKLY37Ulq7"
      },
      "source": [
        "Можно подсмотреть как наша модель описана после ее создания"
      ]
    },
    {
      "cell_type": "code",
      "metadata": {
        "id": "p8zwmaHKzVUH",
        "colab": {
          "base_uri": "https://localhost:8080/"
        },
        "outputId": "b345996e-cc60-4f41-9387-76dd22e1bee7"
      },
      "source": [
        "model.get_config()"
      ],
      "execution_count": null,
      "outputs": [
        {
          "output_type": "execute_result",
          "data": {
            "text/plain": [
              "{'layers': [{'class_name': 'InputLayer',\n",
              "   'config': {'batch_input_shape': (None, 784),\n",
              "    'dtype': 'float32',\n",
              "    'name': 'dense_4_input',\n",
              "    'ragged': False,\n",
              "    'sparse': False}},\n",
              "  {'class_name': 'Dense',\n",
              "   'config': {'activation': 'tanh',\n",
              "    'activity_regularizer': None,\n",
              "    'batch_input_shape': (None, 784),\n",
              "    'bias_constraint': None,\n",
              "    'bias_initializer': {'class_name': 'Zeros', 'config': {}},\n",
              "    'bias_regularizer': None,\n",
              "    'dtype': 'float32',\n",
              "    'kernel_constraint': None,\n",
              "    'kernel_initializer': {'class_name': 'GlorotUniform',\n",
              "     'config': {'seed': None}},\n",
              "    'kernel_regularizer': None,\n",
              "    'name': 'dense_4',\n",
              "    'trainable': True,\n",
              "    'units': 128,\n",
              "    'use_bias': True}},\n",
              "  {'class_name': 'Dense',\n",
              "   'config': {'activation': 'tanh',\n",
              "    'activity_regularizer': None,\n",
              "    'bias_constraint': None,\n",
              "    'bias_initializer': {'class_name': 'Zeros', 'config': {}},\n",
              "    'bias_regularizer': None,\n",
              "    'dtype': 'float32',\n",
              "    'kernel_constraint': None,\n",
              "    'kernel_initializer': {'class_name': 'GlorotUniform',\n",
              "     'config': {'seed': None}},\n",
              "    'kernel_regularizer': None,\n",
              "    'name': 'dense_5',\n",
              "    'trainable': True,\n",
              "    'units': 110,\n",
              "    'use_bias': True}},\n",
              "  {'class_name': 'Dense',\n",
              "   'config': {'activation': 'tanh',\n",
              "    'activity_regularizer': None,\n",
              "    'bias_constraint': None,\n",
              "    'bias_initializer': {'class_name': 'Zeros', 'config': {}},\n",
              "    'bias_regularizer': None,\n",
              "    'dtype': 'float32',\n",
              "    'kernel_constraint': None,\n",
              "    'kernel_initializer': {'class_name': 'GlorotUniform',\n",
              "     'config': {'seed': None}},\n",
              "    'kernel_regularizer': None,\n",
              "    'name': 'dense_6',\n",
              "    'trainable': True,\n",
              "    'units': 100,\n",
              "    'use_bias': True}},\n",
              "  {'class_name': 'Dense',\n",
              "   'config': {'activation': 'softmax',\n",
              "    'activity_regularizer': None,\n",
              "    'bias_constraint': None,\n",
              "    'bias_initializer': {'class_name': 'Zeros', 'config': {}},\n",
              "    'bias_regularizer': None,\n",
              "    'dtype': 'float32',\n",
              "    'kernel_constraint': None,\n",
              "    'kernel_initializer': {'class_name': 'GlorotUniform',\n",
              "     'config': {'seed': None}},\n",
              "    'kernel_regularizer': None,\n",
              "    'name': 'dense_7',\n",
              "    'trainable': True,\n",
              "    'units': 10,\n",
              "    'use_bias': True}}],\n",
              " 'name': 'sequential'}"
            ]
          },
          "metadata": {},
          "execution_count": 18
        }
      ]
    },
    {
      "cell_type": "markdown",
      "metadata": {
        "id": "Og3zBOXKUt6Q"
      },
      "source": [
        "Превратим выходы в векторые (OHE в keras - from keras.utils import to_categorical)"
      ]
    },
    {
      "cell_type": "code",
      "metadata": {
        "colab": {
          "base_uri": "https://localhost:8080/"
        },
        "id": "r4vfB93ZMa7k",
        "outputId": "f0d7b74a-da01-4310-9cee-a65be483a2bc"
      },
      "source": [
        "train_labels[:5]"
      ],
      "execution_count": null,
      "outputs": [
        {
          "output_type": "execute_result",
          "data": {
            "text/plain": [
              "array([5, 0, 4, 1, 9], dtype=uint8)"
            ]
          },
          "metadata": {},
          "execution_count": 19
        }
      ]
    },
    {
      "cell_type": "code",
      "metadata": {
        "id": "fXgYOrUwGwzG"
      },
      "source": [
        "y_t = to_categorical( train_labels)\n",
        "y_tt = to_categorical(testn_labels)"
      ],
      "execution_count": null,
      "outputs": []
    },
    {
      "cell_type": "code",
      "metadata": {
        "colab": {
          "base_uri": "https://localhost:8080/"
        },
        "id": "HWKHT3kpG6yw",
        "outputId": "41feb8ac-a53b-4f9b-e630-002c8f56cf58"
      },
      "source": [
        "y_t[:3,:]"
      ],
      "execution_count": null,
      "outputs": [
        {
          "output_type": "execute_result",
          "data": {
            "text/plain": [
              "array([[0., 0., 0., 0., 0., 1., 0., 0., 0., 0.],\n",
              "       [1., 0., 0., 0., 0., 0., 0., 0., 0., 0.],\n",
              "       [0., 0., 0., 0., 1., 0., 0., 0., 0., 0.]], dtype=float32)"
            ]
          },
          "metadata": {},
          "execution_count": 21
        }
      ]
    },
    {
      "cell_type": "code",
      "metadata": {
        "colab": {
          "base_uri": "https://localhost:8080/"
        },
        "id": "13v9kMf5Ouq_",
        "outputId": "8e59d5a3-3b71-40e3-fff6-abd6c326ab0c"
      },
      "source": [
        "train_labels[:5]"
      ],
      "execution_count": null,
      "outputs": [
        {
          "output_type": "execute_result",
          "data": {
            "text/plain": [
              "array([5, 0, 4, 1, 9], dtype=uint8)"
            ]
          },
          "metadata": {},
          "execution_count": 22
        }
      ]
    },
    {
      "cell_type": "markdown",
      "metadata": {
        "id": "Xk1EavOKVBqI"
      },
      "source": [
        "Посмотрим на реакции модели до обучения - уже можно:)"
      ]
    },
    {
      "cell_type": "code",
      "metadata": {
        "id": "x6q31tJQLuol"
      },
      "source": [
        "y_pred = model.predict(test_images[:5,:])"
      ],
      "execution_count": null,
      "outputs": []
    },
    {
      "cell_type": "code",
      "metadata": {
        "colab": {
          "base_uri": "https://localhost:8080/"
        },
        "id": "qM07Ce8IMKPh",
        "outputId": "d0b992d0-bacb-4f8e-f03d-02de4ac553c3"
      },
      "source": [
        "y_pred[0,:]"
      ],
      "execution_count": null,
      "outputs": [
        {
          "output_type": "execute_result",
          "data": {
            "text/plain": [
              "array([0.14369604, 0.05706349, 0.078199  , 0.17285044, 0.05295108,\n",
              "       0.0977479 , 0.10787509, 0.05480168, 0.06357   , 0.17124528],\n",
              "      dtype=float32)"
            ]
          },
          "metadata": {},
          "execution_count": 24
        }
      ]
    },
    {
      "cell_type": "code",
      "metadata": {
        "colab": {
          "base_uri": "https://localhost:8080/"
        },
        "id": "iFZ8fTdWL-2x",
        "outputId": "b29d02f6-ea9d-4e28-b9ee-cb23c558dac1"
      },
      "source": [
        "y_class = np.argmax(y_pred, axis=1)\n",
        "print(y_class) # [7, 2, 1, 0, 4]"
      ],
      "execution_count": null,
      "outputs": [
        {
          "output_type": "stream",
          "name": "stdout",
          "text": [
            "[3 9 9 9 9]\n"
          ]
        }
      ]
    },
    {
      "cell_type": "code",
      "metadata": {
        "colab": {
          "base_uri": "https://localhost:8080/",
          "height": 281
        },
        "id": "4XpTnd6bO2lt",
        "outputId": "0fb4050e-d6d5-417f-d236-cdeb3ae6e250"
      },
      "source": [
        "n = 1\n",
        "plt.imshow(test_imagesi[n,:,:])\n",
        "plt.title('цифра - '+str(y_class[n]))\n",
        "plt.show()"
      ],
      "execution_count": null,
      "outputs": [
        {
          "output_type": "display_data",
          "data": {
            "text/plain": [
              "<Figure size 432x288 with 1 Axes>"
            ],
            "image/png": "[encoded data removed]"
          },
          "metadata": {
            "needs_background": "light"
          }
        }
      ]
    },
    {
      "cell_type": "markdown",
      "metadata": {
        "id": "emVGoAdNVSK-"
      },
      "source": [
        "Сделаем цикл тренировки модели"
      ]
    },
    {
      "cell_type": "code",
      "metadata": {
        "id": "9lCF4zXv9U90",
        "colab": {
          "base_uri": "https://localhost:8080/"
        },
        "outputId": "d9fe7f5c-87e6-498e-d7b9-ec779e495d1b"
      },
      "source": [
        "\n",
        "# Train the model.\n",
        "model1.fit(    \n",
        "  train_images[:,:],\n",
        "\n",
        "  y_t[:,:],\n",
        "  epochs=2,\n",
        "  batch_size=32, validation_split=0.2\n",
        ")\n",
        "\n",
        "# Evaluate the model.\n",
        "model1.evaluate( \n",
        "  test_images,\n",
        "  y_tt\n",
        ")\n",
        "\n",
        "# Predict on the first 5 test images.\n",
        "predictions = model1.predict(test_images[:5])\n",
        "\n",
        "# Print our model's predictions.\n",
        "print(np.argmax(predictions, axis=1)) # [7, 2, 1, 0, 4]\n",
        "\n",
        "# Check our predictions against the ground truths.\n",
        "print(testn_labels[:5]) # [7, 2, 1, 0, 4]"
      ],
      "execution_count": null,
      "outputs": [
        {
          "output_type": "stream",
          "name": "stdout",
          "text": [
            "Epoch 1/2\n",
            "1500/1500 [==============================] - 7s 4ms/step - loss: 0.3175 - accuracy: 0.9019 - val_loss: 0.1831 - val_accuracy: 0.9413\n",
            "Epoch 2/2\n",
            "1500/1500 [==============================] - 4s 3ms/step - loss: 0.1647 - accuracy: 0.9500 - val_loss: 0.1938 - val_accuracy: 0.9410\n",
            "313/313 [==============================] - 1s 3ms/step - loss: 0.1981 - accuracy: 0.9391\n",
            "[7 2 1 0 4]\n",
            "[7 2 1 0 4]\n"
          ]
        }
      ]
    },
    {
      "cell_type": "markdown",
      "metadata": {
        "id": "CUndBqeOVY1_"
      },
      "source": [
        "И можем еще один добавить (продолжаем от предществующего состояния)"
      ]
    },
    {
      "cell_type": "code",
      "metadata": {
        "colab": {
          "base_uri": "https://localhost:8080/"
        },
        "id": "z3Qc2u0mHfBJ",
        "outputId": "6f0fd755-15b6-4237-ef2b-f6409c8ae1cd"
      },
      "source": [
        "model.fit(\n",
        "  train_images,\n",
        "  y_t,\n",
        "  epochs=15,\n",
        "  batch_size=1024, validation_split=0.2,verbose=1\n",
        ")"
      ],
      "execution_count": null,
      "outputs": [
        {
          "output_type": "stream",
          "name": "stdout",
          "text": [
            "Epoch 1/15\n",
            "47/47 [==============================] - 0s 7ms/step - loss: 3.4659e-04 - accuracy: 1.0000 - val_loss: 0.1093 - val_accuracy: 0.9762\n",
            "Epoch 2/15\n",
            "47/47 [==============================] - 0s 5ms/step - loss: 3.2824e-04 - accuracy: 1.0000 - val_loss: 0.1101 - val_accuracy: 0.9762\n",
            "Epoch 3/15\n",
            "47/47 [==============================] - 0s 6ms/step - loss: 3.1543e-04 - accuracy: 1.0000 - val_loss: 0.1096 - val_accuracy: 0.9758\n",
            "Epoch 4/15\n",
            "47/47 [==============================] - 0s 6ms/step - loss: 3.0199e-04 - accuracy: 1.0000 - val_loss: 0.1112 - val_accuracy: 0.9762\n",
            "Epoch 5/15\n",
            "47/47 [==============================] - 0s 6ms/step - loss: 2.9117e-04 - accuracy: 1.0000 - val_loss: 0.1108 - val_accuracy: 0.9759\n",
            "Epoch 6/15\n",
            "47/47 [==============================] - 0s 6ms/step - loss: 2.7725e-04 - accuracy: 1.0000 - val_loss: 0.1113 - val_accuracy: 0.9762\n",
            "Epoch 7/15\n",
            "47/47 [==============================] - 0s 6ms/step - loss: 2.6875e-04 - accuracy: 1.0000 - val_loss: 0.1122 - val_accuracy: 0.9758\n",
            "Epoch 8/15\n",
            "47/47 [==============================] - 0s 6ms/step - loss: 2.5925e-04 - accuracy: 1.0000 - val_loss: 0.1115 - val_accuracy: 0.9755\n",
            "Epoch 9/15\n",
            "47/47 [==============================] - 0s 5ms/step - loss: 2.4631e-04 - accuracy: 1.0000 - val_loss: 0.1121 - val_accuracy: 0.9762\n",
            "Epoch 10/15\n",
            "47/47 [==============================] - 0s 6ms/step - loss: 2.3866e-04 - accuracy: 1.0000 - val_loss: 0.1130 - val_accuracy: 0.9763\n",
            "Epoch 11/15\n",
            "47/47 [==============================] - 0s 6ms/step - loss: 2.2818e-04 - accuracy: 1.0000 - val_loss: 0.1132 - val_accuracy: 0.9761\n",
            "Epoch 12/15\n",
            "47/47 [==============================] - 0s 6ms/step - loss: 2.2062e-04 - accuracy: 1.0000 - val_loss: 0.1138 - val_accuracy: 0.9759\n",
            "Epoch 13/15\n",
            "47/47 [==============================] - 0s 6ms/step - loss: 2.1257e-04 - accuracy: 1.0000 - val_loss: 0.1136 - val_accuracy: 0.9758\n",
            "Epoch 14/15\n",
            "47/47 [==============================] - 0s 6ms/step - loss: 2.0333e-04 - accuracy: 1.0000 - val_loss: 0.1139 - val_accuracy: 0.9758\n",
            "Epoch 15/15\n",
            "47/47 [==============================] - 0s 6ms/step - loss: 1.9550e-04 - accuracy: 1.0000 - val_loss: 0.1140 - val_accuracy: 0.9763\n"
          ]
        },
        {
          "output_type": "execute_result",
          "data": {
            "text/plain": [
              "<keras.callbacks.History at 0x7f151c337ed0>"
            ]
          },
          "metadata": {},
          "execution_count": 32
        }
      ]
    },
    {
      "cell_type": "markdown",
      "metadata": {
        "id": "EpxXh0NiVg8p"
      },
      "source": [
        "Сохраним модель на диск"
      ]
    },
    {
      "cell_type": "code",
      "metadata": {
        "id": "He1a5EemElpX"
      },
      "source": [
        "# сохранить веса модели.\n",
        "model.save_weights('model.h5')\n",
        "\n",
        "# загрузить веса модели:\n",
        "# model.load_weights('model.h5')\n"
      ],
      "execution_count": null,
      "outputs": []
    },
    {
      "cell_type": "markdown",
      "metadata": {
        "id": "P5MHvkloVkqj"
      },
      "source": [
        "И еще тренируем (вторую модель)"
      ]
    },
    {
      "cell_type": "code",
      "metadata": {
        "id": "1koJ2ivjLOrO",
        "colab": {
          "base_uri": "https://localhost:8080/"
        },
        "outputId": "dd4f6f70-d2af-40e9-9d6a-362effc17b9f"
      },
      "source": [
        "\n",
        "# Train the model. Вернем результаты по потерям и метрикам для всех эпох в hh \n",
        "hh = model1.fit( \n",
        "  train_images,\n",
        "  to_categorical(train_labels),\n",
        "  epochs=15,\n",
        "  batch_size=1024, validation_split=0.2\n",
        ")\n",
        "\n",
        "# Evaluate the model.\n",
        "model1.evaluate(\n",
        "  test_images,\n",
        "  to_categorical(testn_labels)\n",
        ")\n",
        "\n",
        "# Predict on the first 5 test images.\n",
        "predictions = model1.predict(test_images[:5])\n",
        "\n",
        "# Print our model's predictions.\n",
        "print(np.argmax(predictions, axis=1)) # [7, 2, 1, 0, 4]\n",
        "\n",
        "# Check our predictions against the ground truths.\n",
        "print(testn_labels[:5]) # [7, 2, 1, 0, 4]"
      ],
      "execution_count": null,
      "outputs": [
        {
          "output_type": "stream",
          "name": "stdout",
          "text": [
            "Epoch 1/15\n",
            "47/47 [==============================] - 1s 7ms/step - loss: 0.1013 - accuracy: 0.9687 - val_loss: 0.1039 - val_accuracy: 0.9697\n",
            "Epoch 2/15\n",
            "47/47 [==============================] - 0s 7ms/step - loss: 0.0763 - accuracy: 0.9768 - val_loss: 0.0988 - val_accuracy: 0.9704\n",
            "Epoch 3/15\n",
            "47/47 [==============================] - 0s 6ms/step - loss: 0.0712 - accuracy: 0.9786 - val_loss: 0.0973 - val_accuracy: 0.9712\n",
            "Epoch 4/15\n",
            "47/47 [==============================] - 0s 6ms/step - loss: 0.0680 - accuracy: 0.9798 - val_loss: 0.0958 - val_accuracy: 0.9715\n",
            "Epoch 5/15\n",
            "47/47 [==============================] - 0s 6ms/step - loss: 0.0657 - accuracy: 0.9807 - val_loss: 0.0941 - val_accuracy: 0.9720\n",
            "Epoch 6/15\n",
            "47/47 [==============================] - 0s 7ms/step - loss: 0.0632 - accuracy: 0.9815 - val_loss: 0.0931 - val_accuracy: 0.9727\n",
            "Epoch 7/15\n",
            "47/47 [==============================] - 0s 6ms/step - loss: 0.0613 - accuracy: 0.9818 - val_loss: 0.0922 - val_accuracy: 0.9718\n",
            "Epoch 8/15\n",
            "47/47 [==============================] - 0s 6ms/step - loss: 0.0594 - accuracy: 0.9826 - val_loss: 0.0913 - val_accuracy: 0.9723\n",
            "Epoch 9/15\n",
            "47/47 [==============================] - 0s 6ms/step - loss: 0.0571 - accuracy: 0.9833 - val_loss: 0.0908 - val_accuracy: 0.9734\n",
            "Epoch 10/15\n",
            "47/47 [==============================] - 0s 6ms/step - loss: 0.0553 - accuracy: 0.9836 - val_loss: 0.0911 - val_accuracy: 0.9725\n",
            "Epoch 11/15\n",
            "47/47 [==============================] - 0s 7ms/step - loss: 0.0536 - accuracy: 0.9843 - val_loss: 0.0901 - val_accuracy: 0.9724\n",
            "Epoch 12/15\n",
            "47/47 [==============================] - 0s 6ms/step - loss: 0.0520 - accuracy: 0.9851 - val_loss: 0.0895 - val_accuracy: 0.9732\n",
            "Epoch 13/15\n",
            "47/47 [==============================] - 0s 7ms/step - loss: 0.0504 - accuracy: 0.9853 - val_loss: 0.0891 - val_accuracy: 0.9731\n",
            "Epoch 14/15\n",
            "47/47 [==============================] - 0s 7ms/step - loss: 0.0491 - accuracy: 0.9858 - val_loss: 0.0880 - val_accuracy: 0.9734\n",
            "Epoch 15/15\n",
            "47/47 [==============================] - 0s 7ms/step - loss: 0.0474 - accuracy: 0.9864 - val_loss: 0.0878 - val_accuracy: 0.9741\n",
            "313/313 [==============================] - 1s 3ms/step - loss: 0.0817 - accuracy: 0.9736\n",
            "[7 2 1 0 4]\n",
            "[7 2 1 0 4]\n"
          ]
        }
      ]
    },
    {
      "cell_type": "markdown",
      "metadata": {
        "id": "Ckh_q63TvAja"
      },
      "source": [
        "Посмотрим на возвращаемый словарь hh.history (там результаты по эпохам для потерь и метрик по обучению и тестам)"
      ]
    },
    {
      "cell_type": "code",
      "metadata": {
        "colab": {
          "base_uri": "https://localhost:8080/"
        },
        "id": "myewLXE4KTZ6",
        "outputId": "c6d64168-2f3e-4be9-dc2b-d8c1665ca5de"
      },
      "source": [
        "hh.history"
      ],
      "execution_count": null,
      "outputs": [
        {
          "output_type": "execute_result",
          "data": {
            "text/plain": [
              "{'accuracy': [0.9716041684150696,\n",
              "  0.9782916903495789,\n",
              "  0.979729175567627,\n",
              "  0.9809583425521851,\n",
              "  0.9816250205039978,\n",
              "  0.9817291498184204,\n",
              "  0.9831874966621399,\n",
              "  0.9837291836738586,\n",
              "  0.9840208292007446,\n",
              "  0.9844791889190674,\n",
              "  0.9851874709129333,\n",
              "  0.9856458306312561,\n",
              "  0.9858333468437195,\n",
              "  0.9863125085830688,\n",
              "  0.9872083067893982],\n",
              " 'loss': [0.09325884282588959,\n",
              "  0.07348477095365524,\n",
              "  0.06929619610309601,\n",
              "  0.0663108378648758,\n",
              "  0.06389160454273224,\n",
              "  0.06185794621706009,\n",
              "  0.059644654393196106,\n",
              "  0.05753523111343384,\n",
              "  0.05590369552373886,\n",
              "  0.054388560354709625,\n",
              "  0.05269172042608261,\n",
              "  0.05134602263569832,\n",
              "  0.04993279650807381,\n",
              "  0.04872990399599075,\n",
              "  0.046740107238292694],\n",
              " 'val_accuracy': [0.9692500233650208,\n",
              "  0.971750020980835,\n",
              "  0.9713333249092102,\n",
              "  0.972000002861023,\n",
              "  0.9723333120346069,\n",
              "  0.9729166626930237,\n",
              "  0.9729999899864197,\n",
              "  0.9728333353996277,\n",
              "  0.9729166626930237,\n",
              "  0.9730833172798157,\n",
              "  0.9736666679382324,\n",
              "  0.9726666808128357,\n",
              "  0.9735000133514404,\n",
              "  0.9733333587646484,\n",
              "  0.9742500185966492],\n",
              " 'val_loss': [0.10361146181821823,\n",
              "  0.09819462895393372,\n",
              "  0.09638036787509918,\n",
              "  0.09590902924537659,\n",
              "  0.09332840889692307,\n",
              "  0.09211194515228271,\n",
              "  0.0914221704006195,\n",
              "  0.09037082642316818,\n",
              "  0.08980434387922287,\n",
              "  0.08941847831010818,\n",
              "  0.08958324044942856,\n",
              "  0.08821763098239899,\n",
              "  0.08841115236282349,\n",
              "  0.0872010588645935,\n",
              "  0.08679400384426117]}"
            ]
          },
          "metadata": {},
          "execution_count": 29
        }
      ]
    },
    {
      "cell_type": "markdown",
      "metadata": {
        "id": "lJpjFH7hVw8Q"
      },
      "source": [
        "Покажем как выглядит кривая обучения"
      ]
    },
    {
      "cell_type": "code",
      "metadata": {
        "colab": {
          "base_uri": "https://localhost:8080/",
          "height": 458
        },
        "id": "5fBO1Yh2PyIK",
        "outputId": "d7a2b404-8487-43dc-bfb1-830265916a1a"
      },
      "source": [
        "plt.figure(figsize=(15,7))\n",
        "plt.plot(hh.history['loss'], label = 'потери для тренировки')\n",
        "plt.plot(hh.history['val_loss'], label = 'потери для валидации')\n",
        "plt.xlabel('эпох')\n",
        "plt.ylabel('loss')\n",
        "plt.legend()\n",
        "plt.grid('On')\n",
        "plt.title('потери от эпох')\n",
        "plt.show()\n"
      ],
      "execution_count": null,
      "outputs": [
        {
          "output_type": "display_data",
          "data": {
            "text/plain": [
              "<Figure size 1080x504 with 1 Axes>"
            ],
            "image/png": "[encoded data removed]"
          },
          "metadata": {
            "needs_background": "light"
          }
        }
      ]
    },
    {
      "cell_type": "markdown",
      "metadata": {
        "id": "a8zh5g-GBQIp"
      },
      "source": [
        "Эксперимент с разными оптимизаторами для одной начальной модели:\n",
        "\n",
        "  - создаем модель model\n",
        "  - сохраняем ее веса (это начальная точка) model.save_weights('model.h5')\n",
        "  - создаем рабочую модель modeli куда будем загружать эти вес (она должна быть идентичной структуры) \n",
        "  - загружаем веса modeli.load_weights('model.h5')\n",
        "  - компилируем modeli с одним из оптимизаторов\n",
        "  - вычисляем ошибку для modeli без обучения (т.к. все модели начинают с одной точки, то все ошибки должны быть одинаковые, но будем контролировать это и считаем каждый раз заново)\n",
        "  - проводим обучение модели и пишем ошибки в истории hh\n",
        "  - выводим ошибки для 0-го момента и каждой эпохи обучения по тестовой и валидационной частям данных\n",
        "\n",
        "\n",
        "\n",
        "Оптимизаторы:\n",
        "* SGD() (с или без моментум)\n",
        "* RMSprop()\n",
        "* Adam()\n",
        "* Adagrad()\n",
        "…\n"
      ]
    },
    {
      "cell_type": "code",
      "metadata": {
        "colab": {
          "base_uri": "https://localhost:8080/",
          "height": 458
        },
        "id": "jaqCLGg3w_Nl",
        "outputId": "92a668ba-d1d9-4d5e-a288-4f87a83fd2f3"
      },
      "source": [
        "# создаем модель model\n",
        "model = Sequential([\n",
        "                      Dense( 64, activation='relu', input_shape=(784,)),\n",
        "                      Dense(64, activation='tanh'),\n",
        "                      Dense(10, activation='softmax'),\n",
        "                      ])\n",
        "# сохраняем ее веса (это начальная точка) model.save_weights('model.h5')\n",
        "model.save_weights('model.h5')\n",
        "\n",
        "plt.figure(figsize=(16,7))\n",
        "\n",
        "# число рабочих эпох\n",
        "epochs = 15\n",
        "# вектор для выводв результатов\n",
        "epoch = np.arange(epochs+1)\n",
        "\n",
        "# будем изменять оптимизаторы\n",
        "\n",
        "#opt_list = [keras.optimizers.SGD( ),keras.optimizers.Adam( ),keras.optimizers.Nadam( )]\n",
        "for i_optim in ['SGD','RMSProp','adam','NAdam']:\n",
        "  # создаем рабочую модель modeli куда будем загружать эти вес (она должна быть идентичной структуры)\n",
        "  modeli = Sequential([\n",
        "                      Dense(64, activation='relu', input_shape=(784,)),\n",
        "                      Dense(64, activation='tanh'),\n",
        "                      Dense(10, activation='softmax'),\n",
        "                      ])\n",
        "  # загружаем веса modeli.load_weights('model.h5')\n",
        "  modeli.load_weights('model.h5')\n",
        "  # компилируем modeli с одним из оптимизаторов\n",
        "  modeli.compile(\n",
        "      optimizer=i_optim,\n",
        "      loss='categorical_crossentropy',\n",
        "      metrics=['accuracy'],\n",
        "      )\n",
        "  # вычисляем ошибку для modeli без обучения\n",
        "  hh0_tr = modeli.evaluate(  train_images[:48000,:], to_categorical(train_labels[:48000]),verbose = 0)\n",
        "  hh0_val = modeli.evaluate(  train_images[48000:,:], to_categorical(train_labels[48000:]),verbose = 0)\n",
        "  # проводим обучение модели \n",
        "  hh = modeli.fit(\n",
        "                  train_images,\n",
        "                  to_categorical(train_labels),\n",
        "                  epochs=epochs,\n",
        "                  batch_size=1024, validation_split=0.2, verbose = 0\n",
        "                  )\n",
        "  # картинки\n",
        "  plt.plot(epoch,np.log([hh0_tr[0]]+hh.history['loss']),'-',label = modeli.optimizer.get_config()['name']+' train')\n",
        "  plt.plot(epoch,np.log([hh0_val[0]]+hh.history['val_loss']),'--',label = modeli.optimizer.get_config()['name']+' val')\n",
        "plt.legend()\n",
        "plt.grid('On')\n",
        "\n",
        "plt.title('нейросети от оптимизатора log(loss)')\n",
        "plt.xlabel('epoch')\n",
        "plt.ylabel('log(loss)')\n",
        "plt.show()\n"
      ],
      "execution_count": null,
      "outputs": [
        {
          "output_type": "display_data",
          "data": {
            "text/plain": [
              "<Figure size 1152x504 with 1 Axes>"
            ],
            "image/png": "[encoded data removed]"
          },
          "metadata": {
            "needs_background": "light"
          }
        }
      ]
    },
    {
      "cell_type": "code",
      "metadata": {
        "colab": {
          "base_uri": "https://localhost:8080/"
        },
        "id": "viS_E5s6z2UU",
        "outputId": "7c868218-a529-4854-8880-3e75d9bbe630"
      },
      "source": [
        " modeli.optimizer.get_config()"
      ],
      "execution_count": null,
      "outputs": [
        {
          "output_type": "execute_result",
          "data": {
            "text/plain": [
              "{'beta_1': 0.9,\n",
              " 'beta_2': 0.999,\n",
              " 'decay': 0.004,\n",
              " 'epsilon': 1e-07,\n",
              " 'learning_rate': 0.001,\n",
              " 'name': 'Nadam'}"
            ]
          },
          "metadata": {},
          "execution_count": 33
        }
      ]
    },
    {
      "cell_type": "markdown",
      "metadata": {
        "id": "eUVhmimFvp-k"
      },
      "source": [
        "Посмотрим на результат предсказаний  (inference) для обученной модели (последняя в цикле)"
      ]
    },
    {
      "cell_type": "code",
      "metadata": {
        "colab": {
          "base_uri": "https://localhost:8080/",
          "height": 183
        },
        "id": "wj7fhqd3FKFe",
        "outputId": "23766474-6a37-4216-9185-f40d02875f35"
      },
      "source": [
        "N = 9\n",
        "y_pred = model1.predict(test_images[:N,:])\n",
        "y_pred_class = np.argmax(y_pred,axis=1)\n",
        "plt.figure(figsize =(3*N,5))\n",
        "for i in range(N):\n",
        "  plt.subplot(1,N,i+1)\n",
        "  plt.imshow(test_images[i,:].reshape(28,28))\n",
        "  plt.xlabel(str(y_pred_class[i]))\n",
        "plt.show()  "
      ],
      "execution_count": null,
      "outputs": [
        {
          "output_type": "display_data",
          "data": {
            "text/plain": [
              "<Figure size 1944x360 with 9 Axes>"
            ],
            "image/png": "[encoded data removed]"
          },
          "metadata": {
            "needs_background": "light"
          }
        }
      ]
    },
    {
      "cell_type": "code",
      "source": [
        "y_pred[0,:]"
      ],
      "metadata": {
        "colab": {
          "base_uri": "https://localhost:8080/"
        },
        "id": "UjxNbL26F-tv",
        "outputId": "67846eea-4d11-413a-ef52-2dda4bd97f9f"
      },
      "execution_count": null,
      "outputs": [
        {
          "output_type": "execute_result",
          "data": {
            "text/plain": [
              "array([2.56332096e-05, 3.78951700e-05, 1.94113294e-04, 4.43468976e-04,\n",
              "       3.45101313e-07, 5.83845531e-06, 1.41500507e-07, 9.99156475e-01,\n",
              "       1.43516791e-05, 1.21788056e-04], dtype=float32)"
            ]
          },
          "metadata": {},
          "execution_count": 37
        }
      ]
    },
    {
      "cell_type": "code",
      "metadata": {
        "colab": {
          "base_uri": "https://localhost:8080/"
        },
        "id": "Q561c6eaGxcB",
        "outputId": "c8b4c090-d228-43cc-d6ea-74146a037e0f"
      },
      "source": [
        "y_pred_class"
      ],
      "execution_count": null,
      "outputs": [
        {
          "output_type": "execute_result",
          "data": {
            "text/plain": [
              "array([7, 2, 1, 0, 4, 1, 4, 9, 6])"
            ]
          },
          "metadata": {},
          "execution_count": 38
        }
      ]
    },
    {
      "cell_type": "markdown",
      "metadata": {
        "id": "ws3OtgYMfpXI"
      },
      "source": [
        "Вариант синтаксиса:"
      ]
    },
    {
      "cell_type": "code",
      "metadata": {
        "colab": {
          "base_uri": "https://localhost:8080/"
        },
        "id": "IvO2kuDRerfX",
        "outputId": "8a8f5485-84c1-47bd-c9b0-4ffa85921f04"
      },
      "source": [
        "y_predi = model1(test_images[:,:])\n",
        "np.argmax(y_predi,axis=1)"
      ],
      "execution_count": null,
      "outputs": [
        {
          "output_type": "execute_result",
          "data": {
            "text/plain": [
              "array([7, 2, 1, ..., 4, 5, 6])"
            ]
          },
          "metadata": {},
          "execution_count": 39
        }
      ]
    },
    {
      "cell_type": "markdown",
      "source": [
        "Где ошиблись?"
      ],
      "metadata": {
        "id": "5yqdlhIxo3UB"
      }
    },
    {
      "cell_type": "code",
      "metadata": {
        "colab": {
          "base_uri": "https://localhost:8080/"
        },
        "id": "EREg7l6YUK7P",
        "outputId": "c30604c6-2356-4ff9-cd30-a38015e0227e"
      },
      "source": [
        "yy = np.argmax(y_predi,axis=1)\n",
        "np.where(testn_labels != yy)[0]"
      ],
      "execution_count": null,
      "outputs": [
        {
          "output_type": "execute_result",
          "data": {
            "text/plain": [
              "array([   8,  124,  149,  193,  233,  247,  259,  321,  340,  445,  495,\n",
              "        582,  583,  659,  707,  717,  720,  740,  813,  924,  938,  956,\n",
              "        965, 1014, 1032, 1039, 1044, 1107, 1112, 1128, 1147, 1181, 1182,\n",
              "       1192, 1194, 1226, 1228, 1232, 1247, 1253, 1260, 1289, 1299, 1319,\n",
              "       1328, 1378, 1393, 1414, 1444, 1469, 1500, 1522, 1530, 1549, 1570,\n",
              "       1601, 1609, 1681, 1709, 1717, 1751, 1790, 1878, 1901, 1930, 1940,\n",
              "       1941, 1952, 1984, 1987, 2004, 2016, 2035, 2044, 2053, 2098, 2109,\n",
              "       2118, 2130, 2135, 2182, 2266, 2272, 2293, 2369, 2371, 2387, 2414,\n",
              "       2433, 2454, 2488, 2496, 2514, 2607, 2648, 2654, 2720, 2743, 2810,\n",
              "       2877, 2915, 2927, 2939, 2995, 3030, 3060, 3073, 3115, 3117, 3130,\n",
              "       3189, 3206, 3251, 3289, 3333, 3422, 3475, 3503, 3520, 3549, 3558,\n",
              "       3559, 3567, 3597, 3688, 3702, 3727, 3751, 3767, 3776, 3780, 3796,\n",
              "       3808, 3811, 3817, 3818, 3838, 3853, 3855, 3869, 3893, 3902, 3906,\n",
              "       3926, 3941, 3946, 3968, 3976, 3985, 4065, 4075, 4078, 4093, 4163,\n",
              "       4176, 4205, 4212, 4224, 4248, 4255, 4289, 4300, 4306, 4355, 4360,\n",
              "       4369, 4374, 4425, 4435, 4437, 4497, 4534, 4536, 4567, 4601, 4615,\n",
              "       4635, 4690, 4731, 4807, 4814, 4823, 4880, 4886, 4956, 4966, 5331,\n",
              "       5457, 5600, 5634, 5642, 5734, 5749, 5835, 5842, 5887, 5888, 5936,\n",
              "       5937, 5955, 5972, 5973, 5982, 6035, 6045, 6059, 6166, 6172, 6390,\n",
              "       6392, 6505, 6555, 6560, 6564, 6571, 6572, 6597, 6625, 6632, 6651,\n",
              "       6706, 6847, 7216, 7434, 7886, 7921, 7945, 8020, 8094, 8246, 8311,\n",
              "       8325, 8408, 8504, 8519, 8522, 9009, 9015, 9019, 9022, 9024, 9280,\n",
              "       9422, 9482, 9587, 9634, 9642, 9664, 9669, 9679, 9729, 9744, 9745,\n",
              "       9749, 9768, 9770, 9779, 9808, 9839, 9858, 9883, 9904, 9944, 9982])"
            ]
          },
          "metadata": {},
          "execution_count": 40
        }
      ]
    },
    {
      "cell_type": "markdown",
      "metadata": {
        "id": "NRSQbmXD9U98"
      },
      "source": [
        "## Практическое задание\n",
        "\n",
        "Используем набор примеров fashion-MNIST\n",
        "\n",
        "1.  Опишите - какой результата получен в нейросети в зависимости от:\n",
        "  -  числа нейронов в слое(для 2-хслойной сети), \n",
        "  - числа слоев (2, 3, 5, 10) при близких размерах сети (близкое число тренируемых парметров).\n",
        "  - фиксируйте для тренировочного и тестового набора метрики accuracy.\n",
        "2.  Проверьте работу разных оптимизаторов (SGD, Adam, RMSProp) для одной из моделей п.1.Фиксируйте для тренировочного и тестового набора метрики accuracy.\n",
        "\n",
        "3. Сделайте вывод - что помогло вам улучшить качество классификации в нейросети на тестовом наборе? \n",
        "\n",
        "4. Для одного варианта сетей сформируйте матрицу ошибок по классам. Оцените качество модели по каждому классу отдельно (полнота , точность). Сделайте вывод."
      ]
    },
    {
      "cell_type": "markdown",
      "metadata": {
        "id": "HN8DNX38v4JC"
      },
      "source": [
        "Загрузка Fashion_MNIST"
      ]
    },
    {
      "cell_type": "code",
      "metadata": {
        "id": "lzui-f-AMxXM"
      },
      "source": [
        "from keras.datasets import fashion_mnist\n"
      ],
      "execution_count": null,
      "outputs": []
    },
    {
      "cell_type": "code",
      "metadata": {
        "id": "cnrrzpi6NBLV",
        "colab": {
          "base_uri": "https://localhost:8080/"
        },
        "outputId": "bababcc0-745c-4353-dd91-af58cc7d5d5f"
      },
      "source": [
        "(train_imagef,train_labelf),(test_imagef,test_labelf)=fashion_mnist.load_data()"
      ],
      "execution_count": null,
      "outputs": [
        {
          "output_type": "stream",
          "name": "stdout",
          "text": [
            "Downloading data from https://storage.googleapis.com/tensorflow/tf-keras-datasets/train-labels-idx1-ubyte.gz\n",
            "32768/29515 [=================================] - 0s 0us/step\n",
            "40960/29515 [=========================================] - 0s 0us/step\n",
            "Downloading data from https://storage.googleapis.com/tensorflow/tf-keras-datasets/train-images-idx3-ubyte.gz\n",
            "26427392/26421880 [==============================] - 0s 0us/step\n",
            "26435584/26421880 [==============================] - 0s 0us/step\n",
            "Downloading data from https://storage.googleapis.com/tensorflow/tf-keras-datasets/t10k-labels-idx1-ubyte.gz\n",
            "16384/5148 [===============================================================================================] - 0s 0us/step\n",
            "Downloading data from https://storage.googleapis.com/tensorflow/tf-keras-datasets/t10k-images-idx3-ubyte.gz\n",
            "4423680/4422102 [==============================] - 0s 0us/step\n",
            "4431872/4422102 [==============================] - 0s 0us/step\n"
          ]
        }
      ]
    },
    {
      "cell_type": "code",
      "metadata": {
        "colab": {
          "base_uri": "https://localhost:8080/"
        },
        "id": "8x1GhqsXpixY",
        "outputId": "4a502a81-8524-43a7-d62e-974e22581ef2"
      },
      "source": [
        "ind=np.where(train_labelf==3)[0]\n",
        "ind"
      ],
      "execution_count": null,
      "outputs": [
        {
          "output_type": "execute_result",
          "data": {
            "text/plain": [
              "array([    3,    20,    25, ..., 59971, 59980, 59997])"
            ]
          },
          "metadata": {},
          "execution_count": 45
        }
      ]
    },
    {
      "cell_type": "code",
      "metadata": {
        "colab": {
          "base_uri": "https://localhost:8080/",
          "height": 265
        },
        "id": "HgkWr0rjE47r",
        "outputId": "1687319e-aae3-4f06-cd87-e4d0d85c0e35"
      },
      "source": [
        "#plt.gray()\n",
        "plt.imshow(train_imagef[3,:,:])\n",
        "plt.show()"
      ],
      "execution_count": null,
      "outputs": [
        {
          "output_type": "display_data",
          "data": {
            "text/plain": [
              "<Figure size 432x288 with 1 Axes>"
            ],
            "image/png": "[encoded data removed]"
          },
          "metadata": {
            "needs_background": "light"
          }
        }
      ]
    },
    {
      "cell_type": "markdown",
      "metadata": {
        "id": "m2wW13WB9U99"
      },
      "source": [
        "## Дополнительные материалы\n",
        "\n",
        "<ol>\n",
        "    <li> https://keras.io/</li>\n",
        "    <li> https://playground.tensorflow.org/ - визуализация сетей \n",
        "</ol>"
      ]
    },
    {
      "cell_type": "markdown",
      "metadata": {
        "id": "v6h1K5ET9U9_"
      },
      "source": [
        "## Используемая литература \n",
        "\n",
        "Для подготовки данного методического пособия были использованы следующие ресурсы:\n",
        "<ol>\n",
        "    <li>https://keras.io/</li>\n",
        "    <li>Шакла Н. — Машинное обучение и TensorFlow 2019</li>\n",
        "    <li>Саймон Хайкин — Нейронные сети: полный курс</li>\n",
        "    <li>Википедия</li>\n",
        "    \n",
        "</ol>"
      ]
    }
  ]
}